{
 "cells": [
  {
   "cell_type": "markdown",
   "metadata": {},
   "source": [
    "# ChainerRL Quickstart Guide"
   ]
  },
  {
   "cell_type": "markdown",
   "metadata": {},
   "source": [
    "* 下記の資料の写経\n",
    "* https://github.com/chainer/chainerrl/blob/master/examples/quickstart/quickstart.ipynb"
   ]
  },
  {
   "cell_type": "code",
   "execution_count": 2,
   "metadata": {},
   "outputs": [],
   "source": [
    "import chainer\n",
    "import chainer.functions as F\n",
    "import chainer.links as L\n",
    "import chainerrl\n",
    "import gym\n",
    "import numpy as np\n",
    "import seaborn as sns"
   ]
  },
  {
   "cell_type": "code",
   "execution_count": 3,
   "metadata": {},
   "outputs": [],
   "source": [
    "sns.set_style(\"darkgrid\")"
   ]
  },
  {
   "cell_type": "markdown",
   "metadata": {},
   "source": [
    "* env.resetで環境を初期状態にする\n",
    "* env.stepでactionを実行し、次の状態に移動。そして、次のobservationとreward、terminalかどうか、その他の情報を返す。\n",
    "* env.renderで現在のstateを返す？"
   ]
  },
  {
   "cell_type": "code",
   "execution_count": 5,
   "metadata": {},
   "outputs": [
    {
     "name": "stdout",
     "output_type": "stream",
     "text": [
      "observation space; Box(4,)\n",
      "action space; Discrete(2)\n",
      "initial observation: [-0.01292212  0.02662745 -0.00172632 -0.04792824]\n",
      "next observation: [-0.01238957  0.22177411 -0.00268489 -0.34115533]\n",
      "reward: 1.0\n",
      "done: False\n",
      "info: {}\n"
     ]
    }
   ],
   "source": [
    "env = gym.make('CartPole-v0')\n",
    "print('observation space;', env.observation_space)\n",
    "print('action space;', env.action_space)\n",
    "\n",
    "obs = env.reset()\n",
    "env.render()\n",
    "print(\"initial observation:\",obs)\n",
    "\n",
    "action = env.action_space.sample()\n",
    "obs, r, done, info = env.step(action)\n",
    "print('next observation:', obs)\n",
    "print('reward:', r)\n",
    "print('done:', done)\n",
    "print('info:', info)"
   ]
  },
  {
   "cell_type": "markdown",
   "metadata": {},
   "source": [
    "上記で環境が定義できた。これからagentを定義する。\n",
    "\n",
    "ChainerRLには色々なagentsがある\n",
    "\n",
    "DQNを使うにはQfunctionを定義する必要。Qfはobservationを受け取り、Agentが取れるactionごとに想定される未来の報酬を返す(?)。\n",
    "\n",
    "ChainerRLでは、Qfをchainer.Linkで定義できる。\n",
    "\n",
    "outputはchainerrl.aciton_value.DiscreteActionValueでwrapされてる。これは、chainerrl.action_value.actionvalueを実行している。\n",
    "\n",
    "Qfのoutputsをwrapすることで、ChainerRLはdiscrete-acitonQfをこのように扱え、NAFSも同様に扱える。\n"
   ]
  },
  {
   "cell_type": "code",
   "execution_count": 6,
   "metadata": {},
   "outputs": [],
   "source": [
    "class QFunction(chainer.Chain):\n",
    "\n",
    "    def __init__(self, obs_size, n_actions, n_hidden_channels=50):\n",
    "        super().__init__()\n",
    "        with self.init_scope():\n",
    "            self.l0 = L.Linear(obs_size, n_hidden_channels)\n",
    "            self.l1 = L.Linear(n_hidden_channels, n_hidden_channels)\n",
    "            self.l2 = L.Linear(n_hidden_channels, n_actions)\n",
    "\n",
    "    def __call__(self, x, test=False):\n",
    "        \"\"\"\n",
    "        Args:\n",
    "            x (ndarray or chainer.Variable): An observation\n",
    "            test (bool): a flag indicating whether it is in test mode\n",
    "        \"\"\"\n",
    "        h = F.tanh(self.l0(x))\n",
    "        h = F.tanh(self.l1(h))\n",
    "        return chainerrl.action_value.DiscreteActionValue(self.l2(h))\n",
    "\n",
    "obs_size = env.observation_space.shape[0]\n",
    "n_actions = env.action_space.n\n",
    "q_func = QFunction(obs_size, n_actions)"
   ]
  },
  {
   "cell_type": "markdown",
   "metadata": {},
   "source": [
    "* 下記でも定義できるようだ"
   ]
  },
  {
   "cell_type": "code",
   "execution_count": 7,
   "metadata": {},
   "outputs": [],
   "source": [
    "_q_func = chainerrl.q_functions.FCStateQFunctionWithDiscreteAction(\n",
    "    obs_size, n_actions,\n",
    "    n_hidden_layers=2, n_hidden_channels=50)"
   ]
  },
  {
   "cell_type": "markdown",
   "metadata": {},
   "source": [
    "* modelをupdateする。Adamを用いている。"
   ]
  },
  {
   "cell_type": "code",
   "execution_count": 8,
   "metadata": {},
   "outputs": [],
   "source": [
    "# Use Adam to optimize q_func. eps=1e-2 is for stability.\n",
    "optimizer = chainer.optimizers.Adam(eps=1e-2)\n",
    "optimizer.setup(q_func)"
   ]
  },
  {
   "cell_type": "markdown",
   "metadata": {},
   "source": [
    "* DQNagentを作るにはいくつかパラメータと構造を設定する必要"
   ]
  },
  {
   "cell_type": "code",
   "execution_count": 9,
   "metadata": {},
   "outputs": [],
   "source": [
    "# Set the discount factor that discounts future rewards.\n",
    "gamma = 0.95\n",
    "\n",
    "# Use epsilon-greedy for exploration\n",
    "explorer = chainerrl.explorers.ConstantEpsilonGreedy(\n",
    "    epsilon=0.3, random_action_func=env.action_space.sample)\n",
    "\n",
    "# DQN uses Experience Replay.\n",
    "# Specify a replay buffer and its capacity.\n",
    "replay_buffer = chainerrl.replay_buffer.ReplayBuffer(capacity=10 ** 6)\n",
    "\n",
    "# Since observations from CartPole-v0 is numpy.float64 while\n",
    "# Chainer only accepts numpy.float32 by default, specify\n",
    "# a converter as a feature extractor function phi.\n",
    "phi = lambda x: x.astype(np.float32, copy=False)\n",
    "\n",
    "# Now create an agent that will interact with the environment.\n",
    "agent = chainerrl.agents.DoubleDQN(\n",
    "    q_func, optimizer, replay_buffer, gamma, explorer,\n",
    "    replay_start_size=500, update_interval=1,\n",
    "    target_update_interval=100, phi=phi)"
   ]
  },
  {
   "cell_type": "markdown",
   "metadata": {},
   "source": [
    "* agentと環境が作れたので、強化学習を始める。\n",
    "* 探索的行動を選ぶために、agent.act_and_trainを用いる。episodeが終わったら、agent.stop_episode_and_trainを呼ぶ。agent.get_statistics経由でagentのtraining統計が得られる"
   ]
  },
  {
   "cell_type": "code",
   "execution_count": 10,
   "metadata": {},
   "outputs": [
    {
     "name": "stdout",
     "output_type": "stream",
     "text": [
      "episode: 10 R: 11.0 statistics: [('average_q', 0.0030674470130931056), ('average_loss', 0)]\n",
      "episode: 20 R: 9.0 statistics: [('average_q', 0.02775660827377906), ('average_loss', 0)]\n",
      "episode: 30 R: 12.0 statistics: [('average_q', 0.03084203221441138), ('average_loss', 0)]\n",
      "episode: 40 R: 10.0 statistics: [('average_q', 0.05007766855455882), ('average_loss', 0)]\n",
      "episode: 50 R: 9.0 statistics: [('average_q', 0.12055369996585956), ('average_loss', 0.1534333034869617)]\n",
      "episode: 60 R: 9.0 statistics: [('average_q', 0.2627134552193112), ('average_loss', 0.26728088507099557)]\n",
      "episode: 70 R: 21.0 statistics: [('average_q', 0.5386227645304451), ('average_loss', 0.24845479360569162)]\n",
      "episode: 80 R: 14.0 statistics: [('average_q', 0.8805583186682817), ('average_loss', 0.21616087349506796)]\n",
      "episode: 90 R: 19.0 statistics: [('average_q', 1.561163570580645), ('average_loss', 0.23944542793854828)]\n",
      "episode: 100 R: 110.0 statistics: [('average_q', 4.037710702569092), ('average_loss', 0.3620809297889803)]\n",
      "episode: 110 R: 27.0 statistics: [('average_q', 6.4920370510167675), ('average_loss', 0.4026134109624758)]\n",
      "episode: 120 R: 29.0 statistics: [('average_q', 8.35253968492877), ('average_loss', 0.449759068566727)]\n",
      "episode: 130 R: 81.0 statistics: [('average_q', 11.533009863898355), ('average_loss', 0.36722541699431854)]\n",
      "episode: 140 R: 33.0 statistics: [('average_q', 14.341210035237063), ('average_loss', 0.4068758523718023)]\n",
      "episode: 150 R: 176.0 statistics: [('average_q', 17.40672612781052), ('average_loss', 0.3884680010880823)]\n",
      "episode: 160 R: 200.0 statistics: [('average_q', 19.214383106946165), ('average_loss', 0.2863589614459315)]\n",
      "episode: 170 R: 166.0 statistics: [('average_q', 19.927437457903842), ('average_loss', 0.27517818480433653)]\n",
      "episode: 180 R: 200.0 statistics: [('average_q', 20.170460867169005), ('average_loss', 0.26301647562750513)]\n",
      "episode: 190 R: 115.0 statistics: [('average_q', 20.32411891820729), ('average_loss', 0.21948060107274334)]\n",
      "episode: 200 R: 169.0 statistics: [('average_q', 20.2879116810295), ('average_loss', 0.20477918954714475)]\n",
      "Finished.\n"
     ]
    }
   ],
   "source": [
    "n_episodes = 200\n",
    "max_episode_len = 200\n",
    "for i in range(1, n_episodes + 1):\n",
    "    obs = env.reset()\n",
    "    reward = 0\n",
    "    done = False\n",
    "    R = 0  # return (sum of rewards)\n",
    "    t = 0  # time step\n",
    "    while not done and t < max_episode_len:\n",
    "        # Uncomment to watch the behaviour\n",
    "        # env.render()\n",
    "        action = agent.act_and_train(obs, reward)\n",
    "        obs, reward, done, _ = env.step(action)\n",
    "        R += reward\n",
    "        t += 1\n",
    "    if i % 10 == 0:\n",
    "        print('episode:', i,\n",
    "              'R:', R,\n",
    "              'statistics:', agent.get_statistics())\n",
    "    agent.stop_episode_and_train(obs, reward, done)\n",
    "print('Finished.')"
   ]
  },
  {
   "cell_type": "markdown",
   "metadata": {},
   "source": [
    "* agent.act と agent.stop_episodeを用いることで、テストができる。\n",
    "* epsilon greedyのような探索は用いられない。"
   ]
  },
  {
   "cell_type": "code",
   "execution_count": 11,
   "metadata": {},
   "outputs": [
    {
     "name": "stdout",
     "output_type": "stream",
     "text": [
      "test episode: 0 R: 188.0\n",
      "test episode: 1 R: 185.0\n",
      "test episode: 2 R: 185.0\n",
      "test episode: 3 R: 182.0\n",
      "test episode: 4 R: 184.0\n",
      "test episode: 5 R: 184.0\n",
      "test episode: 6 R: 186.0\n",
      "test episode: 7 R: 180.0\n",
      "test episode: 8 R: 174.0\n",
      "test episode: 9 R: 181.0\n"
     ]
    }
   ],
   "source": [
    "for i in range(10):\n",
    "    obs = env.reset()\n",
    "    done = False\n",
    "    R = 0\n",
    "    t = 0\n",
    "    while not done and t < 200:\n",
    "        env.render()\n",
    "        action = agent.act(obs)\n",
    "        obs, r, done, _ = env.step(action)\n",
    "        R += r\n",
    "        t += 1\n",
    "    print('test episode:', i, 'R:', R)\n",
    "    agent.stop_episode()"
   ]
  },
  {
   "cell_type": "markdown",
   "metadata": {},
   "source": [
    "* スコアはいい感じ。agentを保存し、再利用できるようにしよう。\n",
    "* agent.saveを呼べばsaveでき、agent.loadで保存したagentを呼び出せる。"
   ]
  },
  {
   "cell_type": "code",
   "execution_count": 12,
   "metadata": {},
   "outputs": [],
   "source": [
    "# Save an agent to the 'agent' directory\n",
    "agent.save('agent')\n",
    "\n",
    "# Uncomment to load an agent from the 'agent' directory\n",
    "# agent.load('agent')"
   ]
  },
  {
   "cell_type": "markdown",
   "metadata": {},
   "source": [
    "* おしまい\n",
    "* でもこういうコード毎回書くの飽きるよね。utility functionsがあるよ"
   ]
  },
  {
   "cell_type": "code",
   "execution_count": 13,
   "metadata": {},
   "outputs": [
    {
     "name": "stdout",
     "output_type": "stream",
     "text": [
      "outdir:result step:179 episode:0 R:179.0\n",
      "statistics:[('average_q', 20.176150098189026), ('average_loss', 0.16745357896466967)]\n",
      "outdir:result step:345 episode:1 R:166.0\n",
      "statistics:[('average_q', 20.161455445567192), ('average_loss', 0.214232385554759)]\n",
      "outdir:result step:505 episode:2 R:160.0\n",
      "statistics:[('average_q', 20.166822858899927), ('average_loss', 0.24006307060331403)]\n",
      "outdir:result step:658 episode:3 R:153.0\n",
      "statistics:[('average_q', 20.176389030669352), ('average_loss', 0.2738147322758794)]\n",
      "outdir:result step:802 episode:4 R:144.0\n",
      "statistics:[('average_q', 20.185807750922574), ('average_loss', 0.18847578293607056)]\n",
      "outdir:result step:952 episode:5 R:150.0\n",
      "statistics:[('average_q', 20.20061362608234), ('average_loss', 0.21948654239706275)]\n",
      "outdir:result step:1117 episode:6 R:165.0\n",
      "statistics:[('average_q', 20.208696837346473), ('average_loss', 0.23755985694321494)]\n",
      "test episode: 0 R: 135.0\n",
      "test episode: 1 R: 133.0\n",
      "test episode: 2 R: 124.0\n",
      "test episode: 3 R: 129.0\n",
      "test episode: 4 R: 126.0\n",
      "test episode: 5 R: 129.0\n",
      "test episode: 6 R: 133.0\n",
      "test episode: 7 R: 134.0\n",
      "test episode: 8 R: 131.0\n",
      "test episode: 9 R: 131.0\n",
      "The best score is updated -3.40282e+38 -> 130.5\n",
      "Saved the agent to result/1117\n",
      "outdir:result step:1144 episode:7 R:27.0\n",
      "statistics:[('average_q', 20.33789908164286), ('average_loss', 0.2142272001798205)]\n",
      "outdir:result step:1285 episode:8 R:141.0\n",
      "statistics:[('average_q', 20.346301377709093), ('average_loss', 0.19550951796217395)]\n",
      "outdir:result step:1297 episode:9 R:12.0\n",
      "statistics:[('average_q', 20.35263204792256), ('average_loss', 0.20281736406192108)]\n",
      "outdir:result step:1427 episode:10 R:130.0\n",
      "statistics:[('average_q', 20.350070534684555), ('average_loss', 0.22013395372586705)]\n",
      "outdir:result step:1440 episode:11 R:13.0\n",
      "statistics:[('average_q', 20.349909448817304), ('average_loss', 0.20621766099527902)]\n",
      "outdir:result step:1601 episode:12 R:161.0\n",
      "statistics:[('average_q', 20.331608875044925), ('average_loss', 0.2171561161551763)]\n",
      "outdir:result step:1729 episode:13 R:128.0\n",
      "statistics:[('average_q', 20.33569348501514), ('average_loss', 0.21574744173790456)]\n",
      "outdir:result step:1913 episode:14 R:184.0\n",
      "statistics:[('average_q', 20.333196283921755), ('average_loss', 0.20971665342893323)]\n",
      "outdir:result step:2000 episode:15 R:87.0\n",
      "statistics:[('average_q', 20.37950949791522), ('average_loss', 0.21068448875596096)]\n",
      "test episode: 0 R: 178.0\n",
      "test episode: 1 R: 153.0\n",
      "test episode: 2 R: 153.0\n",
      "test episode: 3 R: 165.0\n",
      "test episode: 4 R: 167.0\n",
      "test episode: 5 R: 151.0\n",
      "test episode: 6 R: 163.0\n",
      "test episode: 7 R: 151.0\n",
      "test episode: 8 R: 150.0\n",
      "test episode: 9 R: 158.0\n",
      "The best score is updated 130.5 -> 158.9\n",
      "Saved the agent to result/2000\n",
      "Saved the agent to result/2000_finish\n"
     ]
    }
   ],
   "source": [
    "# Set up the logger to print info messages for understandability.\n",
    "import logging\n",
    "import sys\n",
    "gym.undo_logger_setup()  # Turn off gym's default logger settings\n",
    "logging.basicConfig(level=logging.INFO, stream=sys.stdout, format='')\n",
    "\n",
    "chainerrl.experiments.train_agent_with_evaluation(\n",
    "    agent, env,\n",
    "    steps=2000,           # Train the agent for 2000 steps\n",
    "    eval_n_runs=10,       # 10 episodes are sampled for each evaluation\n",
    "    max_episode_len=200,  # Maximum length of each episodes\n",
    "    eval_interval=1000,   # Evaluate the agent after every 1000 steps\n",
    "    outdir='result')      # Save everything to 'result' directory"
   ]
  }
 ],
 "metadata": {
  "kernelspec": {
   "display_name": "Python 3",
   "language": "python",
   "name": "python3"
  },
  "language_info": {
   "codemirror_mode": {
    "name": "ipython",
    "version": 3
   },
   "file_extension": ".py",
   "mimetype": "text/x-python",
   "name": "python",
   "nbconvert_exporter": "python",
   "pygments_lexer": "ipython3",
   "version": "3.6.3"
  }
 },
 "nbformat": 4,
 "nbformat_minor": 2
}
